{
 "cells": [
  {
   "cell_type": "markdown",
   "metadata": {
    "collapsed": true
   },
   "source": [
    "## Vietnam Stock Market\n",
    " Thị trường chứng khoán Việt Nam đã tồn tại và phát triển suốt hơn 20 năm qua và đã trải qua nhiều thăng trầm. Năm 2018, thị trường đạt đỉnh lịch sử 1200 điểm để rồi 3 năm sau 2021, thị tường vượt lần lượt các mốc 120, 1400 và 1500. Với những kì vọng trước mắt thị trường được kì vọng sẽ vượt 1800 điểm vào năm 2022!\n",
    "\n",
    "\n",
    "\n",
    "\n",
    "\n",
    "### Algorithmic Trading\n",
    "Với sự phát triển của công nghệ và sự hỗ trợ của cộng động, trading bằng máy đã trở nên dễ dàng hơn bao giờ hết. Notebook này là mốc bắt đầu của một chuỗi chương trình với hy vọng sẽ đóng góp một chút công sức của mình vào sự páht triển của ngành công nghiệp trị giá rất lớn này.\n"
   ]
  },
  {
   "cell_type": "markdown",
   "metadata": {},
   "source": [
    "#### Some words\n",
    "Trước khi bắt đầu bất cứ một chương trình nào, chúng ta cần đánh giá về tiềm năng và tình khả thi của dự án. Hiện tại lượng data cung cấp cho thị trường chứng khoán Việt Nam vẫn còn rất hạn chế.\n",
    "Về data, đơn vị cung cấp có VNDirect và SSI là 2 công ty chứng khoán lớn công khai cung cấp dữ liệu. Hoạt động Web scaping cũng có thể thực hiện với CafeF. \n",
    "Về intraday data, chúng ta có thể sử dụng data từ các đơn vị cung cấp API nước ngoài (mặc dù delay 15' và không đủ hết những mã chứng khoán tại thị trường Việt Nam, tuy vậy vẫn có thể áp dụng.\n",
    "\n",
    "\n",
    "\n",
    "Về chương trình này, để tiết kiệm thời gian và công sức, mình xin sử dụng package vnquant của anh Phạm Đình Khánh, một package rất chính xác lấy nguồn data từ VNDirect và CafeF. Ngoài ra, mình đã cố gắng tìm những nguồn data miễn phí nhiều nhất có thể dành cho thị trường Việt Nam.\n",
    "\n"
   ]
  },
  {
   "cell_type": "markdown",
   "metadata": {},
   "source": [
    "# Data Collection\n",
    "\n",
    "Source data from [vnquant](https://github.com/phamdinhkhanh/vnquant) \n",
    "Another way is to use the [investpy](https://investpy.readthedocs.io), however there are lots of missing data for Vietnam\n",
    "\n",
    "In order to run this program, please install requirements\n"
   ]
  },
  {
   "cell_type": "code",
   "execution_count": 109,
   "metadata": {},
   "outputs": [
    {
     "name": "stdout",
     "output_type": "stream",
     "text": [
      "Requirement already satisfied: mplfinance in /Users/haquochung/opt/anaconda3/lib/python3.8/site-packages (0.12.8b9)\n",
      "Requirement already satisfied: pandas in /Users/haquochung/opt/anaconda3/lib/python3.8/site-packages (from mplfinance) (1.2.4)\n",
      "Requirement already satisfied: matplotlib in /Users/haquochung/opt/anaconda3/lib/python3.8/site-packages (from mplfinance) (3.3.4)\n",
      "Requirement already satisfied: pillow>=6.2.0 in /Users/haquochung/opt/anaconda3/lib/python3.8/site-packages (from matplotlib->mplfinance) (8.4.0)\n",
      "Requirement already satisfied: cycler>=0.10 in /Users/haquochung/opt/anaconda3/lib/python3.8/site-packages (from matplotlib->mplfinance) (0.11.0)\n",
      "Requirement already satisfied: pyparsing!=2.0.4,!=2.1.2,!=2.1.6,>=2.0.3 in /Users/haquochung/opt/anaconda3/lib/python3.8/site-packages (from matplotlib->mplfinance) (3.0.4)\n",
      "Requirement already satisfied: numpy>=1.15 in /Users/haquochung/opt/anaconda3/lib/python3.8/site-packages (from matplotlib->mplfinance) (1.22.1)\n",
      "Requirement already satisfied: python-dateutil>=2.1 in /Users/haquochung/opt/anaconda3/lib/python3.8/site-packages (from matplotlib->mplfinance) (2.8.2)\n",
      "Requirement already satisfied: kiwisolver>=1.0.1 in /Users/haquochung/opt/anaconda3/lib/python3.8/site-packages (from matplotlib->mplfinance) (1.3.1)\n",
      "Requirement already satisfied: pytz>=2017.3 in /Users/haquochung/opt/anaconda3/lib/python3.8/site-packages (from pandas->mplfinance) (2021.3)\n",
      "Requirement already satisfied: six>=1.5 in /Users/haquochung/opt/anaconda3/lib/python3.8/site-packages (from python-dateutil>=2.1->matplotlib->mplfinance) (1.16.0)\n",
      "\u001b[33mWARNING: You are using pip version 21.3.1; however, version 22.0.3 is available.\n",
      "You should consider upgrading via the '/Users/haquochung/opt/anaconda3/bin/python3 -m pip install --upgrade pip' command.\u001b[0m\n"
     ]
    }
   ],
   "source": [
    "#example of downloading via notebook\n",
    "#Download mplfinance for plotting candlestick\n",
    "!pip install mplfinance"
   ]
  },
  {
   "cell_type": "code",
   "execution_count": null,
   "metadata": {},
   "outputs": [],
   "source": [
    "#insert libraries and packages\n",
    "import pandas as pd\n",
    "import vnquant.DataLoader as dl\n",
    "import datetime\n",
    "import investpy\n",
    "import matplotlib.pyplot as plt\n",
    "import mplfinance as mpf"
   ]
  },
  {
   "cell_type": "code",
   "execution_count": null,
   "metadata": {},
   "outputs": [],
   "source": [
    "#create a function for collect price data and store it as a csv file\n",
    "\n",
    "def load_data(symbol):\n",
    "    start = '2018-01-01'\n",
    "    \n",
    "    #you can fix the time frame by using timedelta function of datetime library\n",
    "    now = datetime.datetime.now()\n",
    "    end = now.strftime(\"%Y-%m-%d\")\n",
    "    loader = dl.DataLoader(symbol, start,end, data_source='VND', minimal=True)\n",
    "    data = loader.download()\n",
    "    close_data = data['close'].dropna()\n",
    "    \n",
    "    \n",
    "    #to store data remove the '#' on the following line\n",
    "    #csv_file = close_data.to_csv(f'Data/ClosePrice/{symbol} historical since {start}', index=True)\n",
    "\n",
    "    return data"
   ]
  },
  {
   "cell_type": "code",
   "execution_count": null,
   "metadata": {},
   "outputs": [],
   "source": [
    "#Use TCB as an example\n",
    "data = load_data('TCB')\n",
    "data"
   ]
  },
  {
   "cell_type": "markdown",
   "metadata": {},
   "source": [
    "### Ploting\n",
    "After collecting the data, we can plot price in many ways.\n",
    "We can use package [mplfinance](https://github.com/matplotlib/mplfinance) for candlestick, however we can not interact with it.\n",
    "Another way is to use [plotly](https://plotly.com) (vnquant do have a function to plot the candle chart by using plotly)\n"
   ]
  },
  {
   "cell_type": "code",
   "execution_count": null,
   "metadata": {},
   "outputs": [],
   "source": [
    "def plot_price(symbol, range):\n",
    "    #format datetime\n",
    "    now = datetime.datetime.now()\n",
    "    end = now.strftime(\"%Y-%m-%d\")\n",
    "    begin = now - datetime.timedelta(range) #adjust timeframe by adjusting time delta\n",
    "    start = begin.strftime(\"%Y-%m-%d\")\n",
    "\n",
    "    #extract data from vnquant\n",
    "    loader = dl.DataLoader(symbol, start, end, data_source='VND', minimal=True)\n",
    "    pricedata = loader.download()\n",
    "    \n",
    "    #format the data for the mplfinance\n",
    "    stock = pricedata.copy()\n",
    "    stock.reset_index(inplace = True)\n",
    "\n",
    "    dailyInfo = pd.DataFrame( columns =['Date', 'Open', 'High', 'Low', 'Close', 'Volume'])\n",
    "    dailyInfo['Date'] = stock['date']\n",
    "    dailyInfo['Open'] = stock['open']\n",
    "    dailyInfo['High'] = stock['high']\n",
    "    dailyInfo['Low'] = stock['low']\n",
    "    dailyInfo['Close'] = stock['close']\n",
    "    dailyInfo['Volume'] = stock['volume']\n",
    "    dailyInfo.set_index('Date', inplace= True)\n",
    "    \n",
    "    #plot candlestick\n",
    "    mav = (5,15)\n",
    "    fig, axes = mpf.plot(dailyInfo, type='candle', volume=True, mav=mav, returnfig=True, figsize = (12,6))\n",
    "    title = ('%s | Candle chart in %r days') % (symbol, range)\n",
    "    axes[0].set_title(title)\n",
    "    axes[0].legend(mav)\n",
    "    plt.show()\n",
    "\n",
    "    \n",
    "    return dailyInfo"
   ]
  },
  {
   "cell_type": "code",
   "execution_count": null,
   "metadata": {},
   "outputs": [],
   "source": [
    "#Change timeframe by proving in range\n",
    "\n",
    "symbol = input('Enter a symbol: ')\n",
    "symbol = symbol.upper()\n",
    "\n",
    "timeframe = input('Please choose the timeframe: ')\n",
    "timeframe = int(timeframe)\n",
    "\n",
    "\n",
    "stock = plot_price(symbol, timeframe )"
   ]
  },
  {
   "cell_type": "code",
   "execution_count": null,
   "metadata": {},
   "outputs": [],
   "source": [
    "!pip install chart_studio"
   ]
  },
  {
   "cell_type": "code",
   "execution_count": null,
   "metadata": {},
   "outputs": [],
   "source": [
    "#interactive plot\n",
    "import cufflinks as cf\n",
    "df=cf.datagen.ohlc()\n",
    "qf=cf.QuantFig(df,title='First Quant Figure',legend='top',name='GS')\n",
    "qf.add_bollinger_bands()\n",
    "qf.iplot()\n",
    "df"
   ]
  },
  {
   "cell_type": "markdown",
   "metadata": {},
   "source": [
    "#### Symbol ratio and information\n",
    "\n",
    "Some of the information you can extract from the library [investpy](https://investpy.readthedocs.io) or write some code to get them.\n",
    "\n",
    "Some of the basic data you want to have:\n",
    "\n",
    "    - PE\n",
    "    - Capitalization"
   ]
  },
  {
   "cell_type": "code",
   "execution_count": 185,
   "metadata": {},
   "outputs": [
    {
     "data": {
      "text/html": [
       "<div>\n",
       "<style scoped>\n",
       "    .dataframe tbody tr th:only-of-type {\n",
       "        vertical-align: middle;\n",
       "    }\n",
       "\n",
       "    .dataframe tbody tr th {\n",
       "        vertical-align: top;\n",
       "    }\n",
       "\n",
       "    .dataframe thead th {\n",
       "        text-align: right;\n",
       "    }\n",
       "</style>\n",
       "<table border=\"1\" class=\"dataframe\">\n",
       "  <thead>\n",
       "    <tr style=\"text-align: right;\">\n",
       "      <th></th>\n",
       "      <th>Stock Symbol</th>\n",
       "      <th>Prev. Close</th>\n",
       "      <th>Todays Range</th>\n",
       "      <th>Revenue</th>\n",
       "      <th>Open</th>\n",
       "      <th>52 wk Range</th>\n",
       "      <th>EPS</th>\n",
       "      <th>Volume</th>\n",
       "      <th>Market Cap</th>\n",
       "      <th>Dividend (Yield)</th>\n",
       "      <th>Average Vol. (3m)</th>\n",
       "      <th>P/E Ratio</th>\n",
       "      <th>Beta</th>\n",
       "      <th>1-Year Change</th>\n",
       "      <th>Shares Outstanding</th>\n",
       "      <th>Next Earnings Date</th>\n",
       "    </tr>\n",
       "  </thead>\n",
       "  <tbody>\n",
       "    <tr>\n",
       "      <th>0</th>\n",
       "      <td>TCB</td>\n",
       "      <td>52200.0</td>\n",
       "      <td>51,500-52,000</td>\n",
       "      <td>2.665000e+13</td>\n",
       "      <td>51700.0</td>\n",
       "      <td>38,000-58,600</td>\n",
       "      <td>5140.35</td>\n",
       "      <td>6543700.0</td>\n",
       "      <td>1.811600e+14</td>\n",
       "      <td>N/A(N/A)</td>\n",
       "      <td>11903468.0</td>\n",
       "      <td>10.27</td>\n",
       "      <td>1.3</td>\n",
       "      <td>33.33%</td>\n",
       "      <td>3.510915e+09</td>\n",
       "      <td>02/03/2022</td>\n",
       "    </tr>\n",
       "  </tbody>\n",
       "</table>\n",
       "</div>"
      ],
      "text/plain": [
       "  Stock Symbol  Prev. Close   Todays Range       Revenue     Open  \\\n",
       "0          TCB      52200.0  51,500-52,000  2.665000e+13  51700.0   \n",
       "\n",
       "     52 wk Range      EPS     Volume    Market Cap Dividend (Yield)  \\\n",
       "0  38,000-58,600  5140.35  6543700.0  1.811600e+14         N/A(N/A)   \n",
       "\n",
       "   Average Vol. (3m)  P/E Ratio  Beta 1-Year Change  Shares Outstanding  \\\n",
       "0         11903468.0      10.27   1.3        33.33%        3.510915e+09   \n",
       "\n",
       "  Next Earnings Date  \n",
       "0         02/03/2022  "
      ]
     },
     "execution_count": 185,
     "metadata": {},
     "output_type": "execute_result"
    }
   ],
   "source": [
    "stock = investpy.get_stock_information(stock = 'TCB',country = 'vietnam')\n",
    "stock"
   ]
  },
  {
   "cell_type": "code",
   "execution_count": 190,
   "metadata": {},
   "outputs": [
    {
     "data": {
      "text/plain": [
       "0    10.27\n",
       "Name: P/E Ratio, dtype: float64"
      ]
     },
     "execution_count": 190,
     "metadata": {},
     "output_type": "execute_result"
    }
   ],
   "source": [
    "stock['P/E Ratio']"
   ]
  },
  {
   "cell_type": "markdown",
   "metadata": {},
   "source": [
    "### Get index data\n",
    "\n",
    "Stock indices, collections of stocks designed to represent or reflect the performance of a stock market, country, region, industry, or category of stocks, are commonplace in investing. Investors frequently use indices to track and measure investment performance, and passive investment strategies that seek to replicate the indices themselves have become hugely influential in recent decades. (Seeking Alpha)\n",
    "\n",
    "Therefore, collecing the index data and make comparision between the stock and the index is a must-have process. \n",
    "In Vietnam, there are a few major indices that are usually used by many people. For example, Vnindex is the index of the Hose exchange, HNX is the index of the HNX exchange ,VN30 is the index of the thirty biggest company in Hose, VN100, HNX30, etc."
   ]
  },
  {
   "cell_type": "code",
   "execution_count": 174,
   "metadata": {},
   "outputs": [],
   "source": [
    "#create a function to get the index data\n",
    "\n",
    "def load_index_data(x):\n",
    "    end = datetime.datetime.now()\n",
    "    index =investpy.get_index_historical_data(x,country='vietnam',from_date='01/01/2015',to_date=end.strftime('%d/%m/%Y'))\n",
    "    index = pd.DataFrame(index)\n",
    "    return index"
   ]
  },
  {
   "cell_type": "code",
   "execution_count": 182,
   "metadata": {},
   "outputs": [
    {
     "data": {
      "text/html": [
       "<div>\n",
       "<style scoped>\n",
       "    .dataframe tbody tr th:only-of-type {\n",
       "        vertical-align: middle;\n",
       "    }\n",
       "\n",
       "    .dataframe tbody tr th {\n",
       "        vertical-align: top;\n",
       "    }\n",
       "\n",
       "    .dataframe thead th {\n",
       "        text-align: right;\n",
       "    }\n",
       "</style>\n",
       "<table border=\"1\" class=\"dataframe\">\n",
       "  <thead>\n",
       "    <tr style=\"text-align: right;\">\n",
       "      <th></th>\n",
       "      <th>Open</th>\n",
       "      <th>High</th>\n",
       "      <th>Low</th>\n",
       "      <th>Close</th>\n",
       "      <th>Volume</th>\n",
       "      <th>Currency</th>\n",
       "    </tr>\n",
       "    <tr>\n",
       "      <th>Date</th>\n",
       "      <th></th>\n",
       "      <th></th>\n",
       "      <th></th>\n",
       "      <th></th>\n",
       "      <th></th>\n",
       "      <th></th>\n",
       "    </tr>\n",
       "  </thead>\n",
       "  <tbody>\n",
       "    <tr>\n",
       "      <th>2015-01-05</th>\n",
       "      <td>545.43</td>\n",
       "      <td>549.22</td>\n",
       "      <td>543.78</td>\n",
       "      <td>544.45</td>\n",
       "      <td>95950</td>\n",
       "      <td>VND</td>\n",
       "    </tr>\n",
       "    <tr>\n",
       "      <th>2015-01-06</th>\n",
       "      <td>539.08</td>\n",
       "      <td>550.11</td>\n",
       "      <td>538.82</td>\n",
       "      <td>549.66</td>\n",
       "      <td>112316</td>\n",
       "      <td>VND</td>\n",
       "    </tr>\n",
       "    <tr>\n",
       "      <th>2015-01-07</th>\n",
       "      <td>548.44</td>\n",
       "      <td>555.83</td>\n",
       "      <td>548.44</td>\n",
       "      <td>552.05</td>\n",
       "      <td>111705</td>\n",
       "      <td>VND</td>\n",
       "    </tr>\n",
       "    <tr>\n",
       "      <th>2015-01-08</th>\n",
       "      <td>553.49</td>\n",
       "      <td>556.80</td>\n",
       "      <td>552.15</td>\n",
       "      <td>553.47</td>\n",
       "      <td>77867</td>\n",
       "      <td>VND</td>\n",
       "    </tr>\n",
       "    <tr>\n",
       "      <th>2015-01-09</th>\n",
       "      <td>555.53</td>\n",
       "      <td>570.52</td>\n",
       "      <td>555.53</td>\n",
       "      <td>569.73</td>\n",
       "      <td>107475</td>\n",
       "      <td>VND</td>\n",
       "    </tr>\n",
       "    <tr>\n",
       "      <th>...</th>\n",
       "      <td>...</td>\n",
       "      <td>...</td>\n",
       "      <td>...</td>\n",
       "      <td>...</td>\n",
       "      <td>...</td>\n",
       "      <td>...</td>\n",
       "    </tr>\n",
       "    <tr>\n",
       "      <th>2022-02-14</th>\n",
       "      <td>1501.71</td>\n",
       "      <td>1501.71</td>\n",
       "      <td>1471.96</td>\n",
       "      <td>1471.96</td>\n",
       "      <td>810716</td>\n",
       "      <td>VND</td>\n",
       "    </tr>\n",
       "    <tr>\n",
       "      <th>2022-02-15</th>\n",
       "      <td>1471.96</td>\n",
       "      <td>1495.56</td>\n",
       "      <td>1470.06</td>\n",
       "      <td>1492.75</td>\n",
       "      <td>606423</td>\n",
       "      <td>VND</td>\n",
       "    </tr>\n",
       "    <tr>\n",
       "      <th>2022-02-16</th>\n",
       "      <td>1492.75</td>\n",
       "      <td>1499.50</td>\n",
       "      <td>1486.68</td>\n",
       "      <td>1492.10</td>\n",
       "      <td>702522</td>\n",
       "      <td>VND</td>\n",
       "    </tr>\n",
       "    <tr>\n",
       "      <th>2022-02-17</th>\n",
       "      <td>1492.10</td>\n",
       "      <td>1507.99</td>\n",
       "      <td>1492.10</td>\n",
       "      <td>1507.99</td>\n",
       "      <td>615794</td>\n",
       "      <td>VND</td>\n",
       "    </tr>\n",
       "    <tr>\n",
       "      <th>2022-02-18</th>\n",
       "      <td>1507.99</td>\n",
       "      <td>1507.99</td>\n",
       "      <td>1492.38</td>\n",
       "      <td>1504.84</td>\n",
       "      <td>697546</td>\n",
       "      <td>VND</td>\n",
       "    </tr>\n",
       "  </tbody>\n",
       "</table>\n",
       "<p>1779 rows × 6 columns</p>\n",
       "</div>"
      ],
      "text/plain": [
       "               Open     High      Low    Close  Volume Currency\n",
       "Date                                                           \n",
       "2015-01-05   545.43   549.22   543.78   544.45   95950      VND\n",
       "2015-01-06   539.08   550.11   538.82   549.66  112316      VND\n",
       "2015-01-07   548.44   555.83   548.44   552.05  111705      VND\n",
       "2015-01-08   553.49   556.80   552.15   553.47   77867      VND\n",
       "2015-01-09   555.53   570.52   555.53   569.73  107475      VND\n",
       "...             ...      ...      ...      ...     ...      ...\n",
       "2022-02-14  1501.71  1501.71  1471.96  1471.96  810716      VND\n",
       "2022-02-15  1471.96  1495.56  1470.06  1492.75  606423      VND\n",
       "2022-02-16  1492.75  1499.50  1486.68  1492.10  702522      VND\n",
       "2022-02-17  1492.10  1507.99  1492.10  1507.99  615794      VND\n",
       "2022-02-18  1507.99  1507.99  1492.38  1504.84  697546      VND\n",
       "\n",
       "[1779 rows x 6 columns]"
      ]
     },
     "execution_count": 182,
     "metadata": {},
     "output_type": "execute_result"
    }
   ],
   "source": [
    "#VN is VNindex\n",
    "#VN 30 is VN30 index\n",
    "#VN100 is VN100 index\n",
    "#HNX is HNX index\n",
    "#HNX 30 is HNX30 index\n",
    "VN =load_index_data('VN')\n",
    "VN"
   ]
  }
 ],
 "metadata": {
  "kernelspec": {
   "display_name": "Python 3 (ipykernel)",
   "language": "python",
   "name": "python3"
  },
  "language_info": {
   "codemirror_mode": {
    "name": "ipython",
    "version": 3
   },
   "file_extension": ".py",
   "mimetype": "text/x-python",
   "name": "python",
   "nbconvert_exporter": "python",
   "pygments_lexer": "ipython3",
   "version": "3.8.8"
  }
 },
 "nbformat": 4,
 "nbformat_minor": 1
}
