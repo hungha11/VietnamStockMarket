{
 "cells": [
  {
   "cell_type": "markdown",
   "id": "133aee83",
   "metadata": {},
   "source": [
    "# Stock analysis"
   ]
  },
  {
   "cell_type": "markdown",
   "id": "2bc13fee",
   "metadata": {},
   "source": [
    "One of the easiest way to see how the stock performaced in the past is to see how to increase compare to the index.\n",
    "\n",
    "Not just look at the pandas dataframe or see how the stock increased in the past 1 year, we should visualize both performace in a line chart and see the performance.\n",
    "\n",
    "We can use the same code in the Data Collection notebook to take the data for both stock and index ( [vnquant](https://github.com/phamdinhkhanh/vnquant)  and [investpy](https://investpy.readthedocs.io))"
   ]
  },
  {
   "cell_type": "markdown",
   "id": "8fc251f8",
   "metadata": {},
   "source": [
    "#### Data collection"
   ]
  },
  {
   "cell_type": "code",
   "execution_count": 12,
   "id": "74f07599",
   "metadata": {},
   "outputs": [],
   "source": [
    "#import needed libraries and packages\n",
    "import pandas as pd\n",
    "import vnquant.DataLoader as dl\n",
    "import datetime\n",
    "import investpy"
   ]
  },
  {
   "cell_type": "code",
   "execution_count": 13,
   "id": "f034cf27",
   "metadata": {},
   "outputs": [],
   "source": [
    "#stock data\n",
    "def load_stock_data(symbol):\n",
    "    start = '2018-01-01'\n",
    "    \n",
    "    #you can fix the time frame by using timedelta function of datetime library\n",
    "    now = datetime.datetime.now()\n",
    "    end = now.strftime(\"%Y-%m-%d\")\n",
    "    loader = dl.DataLoader(symbol, start,end, data_source='VND', minimal=True)\n",
    "    data = loader.download()\n",
    "    close_data = data['close'].dropna()\n",
    "    \n",
    "    \n",
    "    #to store data remove the '#' on the following line\n",
    "    #csv_file = close_data.to_csv(f'Data/ClosePrice/{symbol} historical since {start}', index=True)\n",
    "\n",
    "    return data"
   ]
  },
  {
   "cell_type": "code",
   "execution_count": 14,
   "id": "f4ed80a6",
   "metadata": {},
   "outputs": [],
   "source": [
    "#index data\n",
    "def load_index_data(x):\n",
    "    end = datetime.datetime.now()\n",
    "    index =investpy.get_index_historical_data(x,country='vietnam',from_date='01/01/2015',to_date=end.strftime('%d/%m/%Y'))\n",
    "    index = pd.DataFrame(index)\n",
    "    return index"
   ]
  },
  {
   "cell_type": "code",
   "execution_count": null,
   "id": "930146fd",
   "metadata": {},
   "outputs": [
    {
     "name": "stderr",
     "output_type": "stream",
     "text": [
      "2022-02-21 09:56:06,680 : INFO : NumExpr defaulting to 8 threads.\n",
      "2022-02-21 09:56:06,689 : INFO : data TCB from 2018-01-01 to 2022-02-21 have already cloned!\n"
     ]
    }
   ],
   "source": [
    "stock = load_stock_data('TCB')\n",
    "index = load_index_data('VN')"
   ]
  },
  {
   "cell_type": "code",
   "execution_count": null,
   "id": "ea5d7b87",
   "metadata": {},
   "outputs": [],
   "source": []
  }
 ],
 "metadata": {
  "kernelspec": {
   "display_name": "Python 3 (ipykernel)",
   "language": "python",
   "name": "python3"
  },
  "language_info": {
   "codemirror_mode": {
    "name": "ipython",
    "version": 3
   },
   "file_extension": ".py",
   "mimetype": "text/x-python",
   "name": "python",
   "nbconvert_exporter": "python",
   "pygments_lexer": "ipython3",
   "version": "3.8.8"
  }
 },
 "nbformat": 4,
 "nbformat_minor": 5
}
