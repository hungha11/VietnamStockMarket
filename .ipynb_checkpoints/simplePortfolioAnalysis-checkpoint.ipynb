{
 "cells": [
  {
   "cell_type": "markdown",
   "id": "3043b4b5",
   "metadata": {},
   "source": [
    "## Simple Portfolio Analysis\n",
    "\n",
    "\n",
    "When it comes to portfolio analysis, there are some key points need to consider:\n",
    "- What is the proportion of each stock that combine your portfolio\n",
    "- How do the stocks correlated to each other that can highly affected your portfolio performance and the risk management"
   ]
  },
  {
   "cell_type": "code",
   "execution_count": 13,
   "id": "dfe0e17b",
   "metadata": {},
   "outputs": [],
   "source": [
    "import pandas as pd\n",
    "import numpy as np\n",
    "import datetime\n",
    "import vnquant.DataLoader as dl\n",
    "import investpy"
   ]
  },
  {
   "cell_type": "code",
   "execution_count": 14,
   "id": "cb200929",
   "metadata": {},
   "outputs": [],
   "source": [
    "#Collect the data for your portfolio\n",
    "#I will use 10 companies as an example of the portfolio in 6 industries: bank, security, insurance, real estate, wholesale, logistics, gas and oil, mineral\n",
    "\n",
    "company_list = ['TCB','VCB','SSI','BVH','VHM','KBC','MWG','HAH','GAS','HPG',]"
   ]
  },
  {
   "cell_type": "code",
   "execution_count": 15,
   "id": "9462c871",
   "metadata": {},
   "outputs": [
    {
     "data": {
      "text/plain": [
       "10"
      ]
     },
     "execution_count": 15,
     "metadata": {},
     "output_type": "execute_result"
    }
   ],
   "source": [
    "len(company_list)"
   ]
  },
  {
   "cell_type": "code",
   "execution_count": 27,
   "id": "53aadba0",
   "metadata": {},
   "outputs": [],
   "source": [
    "#create a dictionary to store the data\n",
    "d = {}\n",
    "#stock data\n",
    "def load_data(symbol):\n",
    "    start = '2021-01-01'\n",
    "    \n",
    "    #you can fix the time frame by using timedelta function of datetime library\n",
    "    now = datetime.datetime.now()\n",
    "    end = now.strftime(\"%Y-%m-%d\")\n",
    "    loader = dl.DataLoader(symbol, start,end, data_source='VND', minimal=True)\n",
    "    data = loader.download()\n",
    "    close_data = data['close'].dropna()\n",
    "    \n",
    "    \n",
    "    #to store data remove the '#' on the following line\n",
    "    #csv_file = close_data.to_csv(f'Data/ClosePrice/{symbol} historical since {start}', index=True)\n",
    "\n",
    "    return data"
   ]
  },
  {
   "cell_type": "code",
   "execution_count": 33,
   "id": "64a1867e",
   "metadata": {},
   "outputs": [
    {
     "name": "stderr",
     "output_type": "stream",
     "text": [
      "2022-02-21 22:26:10,160 : INFO : data TCB from 2021-01-01 to 2022-02-21 have already cloned!\n",
      "2022-02-21 22:26:10,441 : INFO : data VCB from 2021-01-01 to 2022-02-21 have already cloned!\n",
      "2022-02-21 22:26:10,647 : INFO : data SSI from 2021-01-01 to 2022-02-21 have already cloned!\n",
      "2022-02-21 22:26:10,900 : INFO : data BVH from 2021-01-01 to 2022-02-21 have already cloned!\n",
      "2022-02-21 22:26:11,236 : INFO : data VHM from 2021-01-01 to 2022-02-21 have already cloned!\n",
      "2022-02-21 22:26:11,453 : INFO : data KBC from 2021-01-01 to 2022-02-21 have already cloned!\n",
      "2022-02-21 22:26:11,724 : INFO : data MWG from 2021-01-01 to 2022-02-21 have already cloned!\n",
      "2022-02-21 22:26:12,019 : INFO : data HAH from 2021-01-01 to 2022-02-21 have already cloned!\n",
      "2022-02-21 22:26:12,222 : INFO : data GAS from 2021-01-01 to 2022-02-21 have already cloned!\n",
      "2022-02-21 22:26:12,534 : INFO : data HPG from 2021-01-01 to 2022-02-21 have already cloned!\n"
     ]
    }
   ],
   "source": [
    "for name in company_list:\n",
    "    d[name] = load_data(name)"
   ]
  },
  {
   "cell_type": "code",
   "execution_count": 53,
   "id": "5b31a6eb",
   "metadata": {},
   "outputs": [
    {
     "data": {
      "text/plain": [
       "{'TCB': Attributes   high    low   open  close        avg      volume\n",
       " Symbols       TCB    TCB    TCB    TCB        TCB         TCB\n",
       " date                                                         \n",
       " 2021-01-04  33.40  31.90  32.00  33.00  32.990000  19689920.0\n",
       " 2021-01-05  33.35  32.55  32.75  33.05  33.040000  17622700.0\n",
       " 2021-01-06  34.10  32.95  33.20  33.20  33.470000  22676300.0\n",
       " 2021-01-07  34.60  33.40  33.75  34.60  34.050000  18078500.0\n",
       " 2021-01-08  36.25  34.90  35.00  35.70  35.700000  18919900.0\n",
       " ...           ...    ...    ...    ...        ...         ...\n",
       " 2022-02-15  52.10  51.30  51.60  51.80  51.640000  12082800.0\n",
       " 2022-02-16  52.20  51.50  52.20  51.60  51.730000   6654400.0\n",
       " 2022-02-17  52.50  51.60  51.60  52.20  51.990000   7990000.0\n",
       " 2022-02-18  52.00  51.50  51.70  51.60  51.680000   6622600.0\n",
       " 2022-02-21  51.70  50.80  51.60  51.60  51.206928   9009100.0\n",
       " \n",
       " [280 rows x 6 columns],\n",
       " 'VCB': Attributes   high    low   open  close         avg     volume\n",
       " Symbols       VCB    VCB    VCB    VCB         VCB        VCB\n",
       " date                                                         \n",
       " 2021-01-04   99.8   97.3   98.0   99.0   98.580000   855900.0\n",
       " 2021-01-05  100.6   99.0   99.0   99.3   99.910000   739200.0\n",
       " 2021-01-06  106.2   99.3   99.5  105.0  103.020000  2080400.0\n",
       " 2021-01-07  108.5  104.0  104.0  107.0  106.280000   889000.0\n",
       " 2021-01-08  108.0  104.5  108.0  104.8  106.790000   963900.0\n",
       " ...           ...    ...    ...    ...         ...        ...\n",
       " 2022-02-15   88.3   83.8   86.0   87.0   86.350000  2453500.0\n",
       " 2022-02-16   87.9   86.4   87.5   87.0   86.870000  1365000.0\n",
       " 2022-02-17   87.7   86.8   87.0   87.5   87.410000  1491200.0\n",
       " 2022-02-18   87.5   86.4   86.4   87.2   87.050000  1066200.0\n",
       " 2022-02-21   87.6   86.6   86.6   87.2   87.158856  1025800.0\n",
       " \n",
       " [280 rows x 6 columns],\n",
       " 'SSI': Attributes   high    low   open  close        avg      volume\n",
       " Symbols       SSI    SSI    SSI    SSI        SSI         SSI\n",
       " date                                                         \n",
       " 2021-01-04  34.60  33.80  34.50  33.80  34.190000   9075100.0\n",
       " 2021-01-05  34.10  33.10  33.25  33.75  33.770000   8624800.0\n",
       " 2021-01-06  34.95  33.00  34.20  34.00  34.400000  10370000.0\n",
       " 2021-01-07  34.60  33.55  34.50  34.40  33.930000  13926200.0\n",
       " 2021-01-08  34.90  33.55  34.90  34.15  34.330000  11504900.0\n",
       " ...           ...    ...    ...    ...        ...         ...\n",
       " 2022-02-15  44.70  43.35  44.20  44.20  44.010000   5733800.0\n",
       " 2022-02-16  45.10  44.30  44.70  44.90  44.820000   4864700.0\n",
       " 2022-02-17  45.15  44.80  44.80  45.00  44.950000   5870700.0\n",
       " 2022-02-18  45.80  44.40  44.50  45.20  45.060000   9386200.0\n",
       " 2022-02-21  46.40  45.30  45.30  45.20  45.984402  10975700.0\n",
       " \n",
       " [280 rows x 6 columns],\n",
       " 'BVH': Attributes  high   low  open close        avg     volume\n",
       " Symbols      BVH   BVH   BVH   BVH        BVH        BVH\n",
       " date                                                    \n",
       " 2021-01-04  67.5  65.6  67.0  66.3  66.560000  1192300.0\n",
       " 2021-01-05  66.3  65.4  65.5  66.0  65.890000  1018200.0\n",
       " 2021-01-06  67.8  66.0  66.5  66.5  66.950000  1472400.0\n",
       " 2021-01-07  67.4  66.5  66.5  67.0  66.980000   898000.0\n",
       " 2021-01-08  69.0  67.6  67.8  68.3  68.410000  1639800.0\n",
       " ...          ...   ...   ...   ...        ...        ...\n",
       " 2022-02-15  54.9  54.0  54.3  54.8  54.270000   450500.0\n",
       " 2022-02-16  57.4  54.8  55.4  57.4  56.410000  1909900.0\n",
       " 2022-02-17  57.8  56.8  57.7  56.9  57.220000   712300.0\n",
       " 2022-02-18  58.0  56.4  56.8  57.3  57.340000   860800.0\n",
       " 2022-02-21  57.5  56.8  57.3  57.3  57.126418   625700.0\n",
       " \n",
       " [280 rows x 6 columns],\n",
       " 'VHM': Attributes  high   low  open close        avg     volume\n",
       " Symbols      VHM   VHM   VHM   VHM        VHM        VHM\n",
       " date                                                    \n",
       " 2021-01-04  92.9  89.9  91.0  92.0  90.920000  3712910.0\n",
       " 2021-01-05  96.0  91.5  91.8  95.6  93.990000  3498500.0\n",
       " 2021-01-06  96.6  94.2  96.6  94.8  95.750000  3568200.0\n",
       " 2021-01-07  95.1  93.4  94.8  94.8  94.170000  3530800.0\n",
       " 2021-01-08  96.8  95.3  95.5  96.4  96.290000  2638600.0\n",
       " ...          ...   ...   ...   ...        ...        ...\n",
       " 2022-02-15  80.9  78.1  78.1  80.0  79.570000  3777500.0\n",
       " 2022-02-16  80.5  79.7  80.3  80.0  80.080000  2334400.0\n",
       " 2022-02-17  80.8  79.7  80.0  80.8  80.240000  3923200.0\n",
       " 2022-02-18  80.3  79.6  80.0  79.7  79.870000  3373300.0\n",
       " 2022-02-21  80.5  79.7  80.0  79.7  80.039784  3146800.0\n",
       " \n",
       " [280 rows x 6 columns],\n",
       " 'KBC': Attributes  high   low  open close        avg      volume\n",
       " Symbols      KBC   KBC   KBC   KBC        KBC         KBC\n",
       " date                                                     \n",
       " 2021-01-04  26.1  25.3  26.0  26.1  25.990000   6590800.0\n",
       " 2021-01-05  27.9  26.5  26.5  27.0  27.500000  11967600.0\n",
       " 2021-01-06  27.7  26.0  27.1  26.2  26.740000  10653700.0\n",
       " 2021-01-07  27.2  26.2  26.5  27.0  26.700000   8000200.0\n",
       " 2021-01-08  28.8  26.5  27.0  27.5  27.610000   9368600.0\n",
       " ...          ...   ...   ...   ...        ...         ...\n",
       " 2022-02-15  57.9  56.5  56.8  57.7  57.290000   7151700.0\n",
       " 2022-02-16  58.8  57.6  58.2  57.7  58.130000   6029700.0\n",
       " 2022-02-17  58.5  57.3  57.5  58.5  57.930000   9152900.0\n",
       " 2022-02-18  59.4  57.9  57.9  58.5  58.660000   8029500.0\n",
       " 2022-02-21  59.3  58.2  58.6  58.5  58.639394   7026400.0\n",
       " \n",
       " [280 rows x 6 columns],\n",
       " 'MWG': Attributes   high    low   open  close         avg     volume\n",
       " Symbols       MWG    MWG    MWG    MWG         MWG        MWG\n",
       " date                                                         \n",
       " 2021-01-04  120.6  119.3  119.5  120.6  120.010000  1197400.0\n",
       " 2021-01-05  122.6  119.6  120.0  121.9  121.570000   967500.0\n",
       " 2021-01-06  123.0  120.7  123.0  121.3  121.780000   995500.0\n",
       " 2021-01-07  121.2  119.7  120.5  120.8  120.400000  1330600.0\n",
       " 2021-01-08  122.9  120.8  120.8  121.8  122.040000  1277600.0\n",
       " ...           ...    ...    ...    ...         ...        ...\n",
       " 2022-02-15  133.9  131.5  132.7  133.3  132.990000  1282900.0\n",
       " 2022-02-16  134.2  131.6  134.2  132.9  132.500000   562000.0\n",
       " 2022-02-17  134.5  131.9  132.0  134.5  133.110000  1059100.0\n",
       " 2022-02-18  134.0  132.1  132.1  134.0  132.940000   467800.0\n",
       " 2022-02-21  134.9  132.5  132.5  134.0  133.853945   612100.0\n",
       " \n",
       " [280 rows x 6 columns],\n",
       " 'HAH': Attributes  high    low  open  close      avg     volume\n",
       " Symbols      HAH    HAH   HAH    HAH      HAH        HAH\n",
       " date                                                    \n",
       " 2021-01-04  18.8  17.90  18.0  18.55  18.4700  1504800.0\n",
       " 2021-01-05  18.8  18.25  18.6  18.45  18.5100  1179900.0\n",
       " 2021-01-06  18.5  18.10  18.4  18.15  18.2400   893700.0\n",
       " 2021-01-07  19.4  18.15  18.3  19.40  19.0500  2385500.0\n",
       " 2021-01-08  19.9  18.90  19.9  19.50  19.4800  1115800.0\n",
       " ...          ...    ...   ...    ...      ...        ...\n",
       " 2022-02-15  73.6  72.00  73.2  72.30  72.4900   611100.0\n",
       " 2022-02-16  73.9  72.40  72.7  72.50  72.8500   561100.0\n",
       " 2022-02-17  77.5  72.00  72.3  77.30  75.9800  3641700.0\n",
       " 2022-02-18  81.5  76.00  77.0  80.90  79.3100  2801500.0\n",
       " 2022-02-21  81.7  79.20  80.9  80.90  80.6943  1276800.0\n",
       " \n",
       " [280 rows x 6 columns],\n",
       " 'GAS': Attributes   high    low   open  close         avg     volume\n",
       " Symbols       GAS    GAS    GAS    GAS         GAS        GAS\n",
       " date                                                         \n",
       " 2021-01-04   89.4   87.1   87.9   88.8   88.140000  1362600.0\n",
       " 2021-01-05   90.2   86.6   88.0   90.0   89.330000  1262700.0\n",
       " 2021-01-06   91.9   90.0   91.0   90.4   91.080000  1196900.0\n",
       " 2021-01-07   92.8   89.2   91.0   92.7   90.900000  1509300.0\n",
       " 2021-01-08   93.3   91.7   92.7   92.7   92.680000   934700.0\n",
       " ...           ...    ...    ...    ...         ...        ...\n",
       " 2022-02-15  119.6  113.6  116.0  117.4  117.940000  1425600.0\n",
       " 2022-02-16  115.9  113.0  114.5  114.5  114.150000   845900.0\n",
       " 2022-02-17  118.7  113.7  114.4  118.7  116.520000  1128100.0\n",
       " 2022-02-18  118.7  115.3  116.5  117.0  117.070000   732400.0\n",
       " 2022-02-21  117.0  115.5  116.5  117.0  116.007216   332600.0\n",
       " \n",
       " [280 rows x 6 columns],\n",
       " 'HPG': Attributes   high    low   open  close        avg      volume\n",
       " Symbols       HPG    HPG    HPG    HPG        HPG         HPG\n",
       " date                                                         \n",
       " 2021-01-04  43.00  41.65  42.00  42.30  42.450000  17422606.0\n",
       " 2021-01-05  42.80  41.70  41.80  42.35  42.160000  18634100.0\n",
       " 2021-01-06  43.30  42.30  42.50  42.80  42.740000  19818600.0\n",
       " 2021-01-07  43.20  42.25  43.15  42.80  42.680000  25867000.0\n",
       " 2021-01-08  43.30  42.60  42.90  42.75  42.910000  20555400.0\n",
       " ...           ...    ...    ...    ...        ...         ...\n",
       " 2022-02-15  46.55  45.40  46.20  46.00  45.920000  15872100.0\n",
       " 2022-02-16  46.50  45.60  46.10  46.00  46.080000   9841500.0\n",
       " 2022-02-17  46.75  46.00  46.00  46.50  46.400000  12373600.0\n",
       " 2022-02-18  47.65  46.05  46.20  47.05  47.130000  23135500.0\n",
       " 2022-02-21  47.50  46.55  47.10  47.05  46.955647  12177300.0\n",
       " \n",
       " [280 rows x 6 columns]}"
      ]
     },
     "execution_count": 53,
     "metadata": {},
     "output_type": "execute_result"
    }
   ],
   "source": [
    "x = d.copy()\n",
    "x"
   ]
  },
  {
   "cell_type": "code",
   "execution_count": 54,
   "id": "521f96e1",
   "metadata": {},
   "outputs": [],
   "source": [
    "for name in company_list:\n",
    "    x[name] = x[name].close.pct_change()\n",
    "    x[name].dropna(inplace = True)"
   ]
  },
  {
   "cell_type": "code",
   "execution_count": 55,
   "id": "fc1f41fe",
   "metadata": {},
   "outputs": [
    {
     "name": "stdout",
     "output_type": "stream",
     "text": [
      "Symbols          TCB  VCB  SSI  BVH  VHM  KBC  MWG  HAH  GAS       HPG\n",
      "date                                                                  \n",
      "2021-01-05  0.001515  NaN  NaN  NaN  NaN  NaN  NaN  NaN  NaN       NaN\n",
      "2021-01-06  0.004539  NaN  NaN  NaN  NaN  NaN  NaN  NaN  NaN       NaN\n",
      "2021-01-07  0.042169  NaN  NaN  NaN  NaN  NaN  NaN  NaN  NaN       NaN\n",
      "2021-01-08  0.031792  NaN  NaN  NaN  NaN  NaN  NaN  NaN  NaN       NaN\n",
      "2021-01-11 -0.012605  NaN  NaN  NaN  NaN  NaN  NaN  NaN  NaN       NaN\n",
      "...              ...  ...  ...  ...  ...  ...  ...  ...  ...       ...\n",
      "2022-02-15       NaN  NaN  NaN  NaN  NaN  NaN  NaN  NaN  NaN -0.004329\n",
      "2022-02-16       NaN  NaN  NaN  NaN  NaN  NaN  NaN  NaN  NaN  0.000000\n",
      "2022-02-17       NaN  NaN  NaN  NaN  NaN  NaN  NaN  NaN  NaN  0.010870\n",
      "2022-02-18       NaN  NaN  NaN  NaN  NaN  NaN  NaN  NaN  NaN  0.011828\n",
      "2022-02-21       NaN  NaN  NaN  NaN  NaN  NaN  NaN  NaN  NaN  0.000000\n",
      "\n",
      "[2790 rows x 10 columns]\n"
     ]
    }
   ],
   "source": [
    "df = pd.DataFrame() # Create an empty dataframe, this will be your final dataframe\n",
    "\n",
    "for name, data in x.items():\n",
    "    df = df.append(data) # Add your sub_df one by one\n",
    "\n",
    "print(df)"
   ]
  },
  {
   "cell_type": "code",
   "execution_count": null,
   "id": "7bcbc4fa",
   "metadata": {},
   "outputs": [],
   "source": []
  }
 ],
 "metadata": {
  "kernelspec": {
   "display_name": "Python 3 (ipykernel)",
   "language": "python",
   "name": "python3"
  },
  "language_info": {
   "codemirror_mode": {
    "name": "ipython",
    "version": 3
   },
   "file_extension": ".py",
   "mimetype": "text/x-python",
   "name": "python",
   "nbconvert_exporter": "python",
   "pygments_lexer": "ipython3",
   "version": "3.8.8"
  }
 },
 "nbformat": 4,
 "nbformat_minor": 5
}
